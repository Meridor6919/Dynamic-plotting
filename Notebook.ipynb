{
  "nbformat": 4,
  "nbformat_minor": 0,
  "metadata": {
    "colab": {
      "provenance": [],
      "authorship_tag": "ABX9TyNLIvyma/ZjrLz+WmXgQ42Q",
      "include_colab_link": true
    },
    "kernelspec": {
      "name": "python3",
      "display_name": "Python 3"
    },
    "language_info": {
      "name": "python"
    }
  },
  "cells": [
    {
      "cell_type": "markdown",
      "metadata": {
        "id": "view-in-github",
        "colab_type": "text"
      },
      "source": [
        "<a href=\"https://colab.research.google.com/github/Meridor6919/Dynamic-plotting/blob/master/Notebook.ipynb\" target=\"_parent\"><img src=\"https://colab.research.google.com/assets/colab-badge.svg\" alt=\"Open In Colab\"/></a>"
      ]
    },
    {
      "cell_type": "code",
      "source": [
        "import bokeh\n",
        "from datetime import datetime\n",
        "from bokeh.io import output_notebook, push_notebook, show\n",
        "from bokeh.models.ranges import Range1d\n",
        "from bokeh.models import ColumnDataSource\n",
        "from bokeh.plotting import figure\n",
        "\n",
        "output_notebook()\n",
        "data_source = ColumnDataSource(data = {\"X name\": [], \"Y name\": []})\n",
        "\n",
        "axis_min = 0\n",
        "axis_max = 100\n",
        "fig = bokeh.plotting.figure(\n",
        "    x_axis_type=\"datetime\",\n",
        "    width=900,\n",
        "    height=450,\n",
        "    title=\"My graph name\",\n",
        "    x_range=(axis_min, axis_max),\n",
        ")\n",
        "\n",
        "fig.line(x=\"Y name\", y=\"X name\", line_color=\"blue\", line_width=3.0, source=data_source)\n",
        "\n",
        "fig.xaxis.axis_label = \"X axis name\"\n",
        "fig.yaxis.axis_label = \"Y axis name\"\n",
        "\n",
        "handle_line_chart = show(fig, notebook_handle=True)\n",
        "\n",
        "\n",
        "def Func(timeT):\n",
        "  return np.sin(timeT/10)+ random.randint(-5, 5)/30\n",
        "\n",
        "timeT = 0\n",
        "while True:\n",
        "    new_row = {\"X name\": [Func(timeT)], \"Y name\": [timeT]}\n",
        "    data_source.stream(new_row)\n",
        "    if(timeT >= axis_max):\n",
        "      fig.x_range.update(start=axis_min, end=axis_max, reset_start=axis_min, reset_end=axis_max)\n",
        "      axis_min += 1\n",
        "      axis_max += 1\n",
        "    push_notebook(handle=handle_line_chart)\n",
        "    timeT += 1\n",
        "    time.sleep(0.1)"
      ],
      "metadata": {
        "id": "b4xbusMW2_yK"
      },
      "execution_count": null,
      "outputs": []
    }
  ]
}